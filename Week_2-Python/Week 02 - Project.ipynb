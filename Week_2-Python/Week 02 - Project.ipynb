{
 "cells": [
  {
   "cell_type": "markdown",
   "id": "a48dc678",
   "metadata": {},
   "source": [
    "# Week 02 - Project\n",
    "\n",
    "* https://towardsdatascience.com/15-tips-and-tricks-for-jupyter-notebook-that-will-ease-your-coding-experience-e469207ac95c"
   ]
  },
  {
   "cell_type": "markdown",
   "id": "af229e95",
   "metadata": {},
   "source": [
    "## Guidelines and Docstrings\n",
    "\n",
    "* https://peps.python.org/pep-0008/\n",
    "* https://sphinxcontrib-napoleon.readthedocs.io/en/latest/example_google.html"
   ]
  },
  {
   "cell_type": "markdown",
   "id": "9b696804",
   "metadata": {},
   "source": [
    "### Arguments vs Parameters\n",
    "\n",
    "Used interchangeably but technically\n",
    "\n",
    "<pre>\n",
    "def my_function(parameter):\n",
    "    return parameter\n",
    "    \n",
    "my_function(argument)\n",
    "</pre>"
   ]
  },
  {
   "cell_type": "code",
   "execution_count": null,
   "id": "c1226d38",
   "metadata": {},
   "outputs": [],
   "source": [
    "# google docstring https://www.programiz.com/python-programming/docstrings example 5\n",
    "def add_binary(a, b):\n",
    "    '''\n",
    "    Returns the sum of two decimal numbers in binary digits.\n",
    "\n",
    "            Parameters:\n",
    "                    a (int): A decimal integer\n",
    "                    b (int): Another decimal integer\n",
    "\n",
    "            Returns:\n",
    "                    binary_sum (str): Binary string of the sum of a and b\n",
    "    '''\n",
    "\n",
    "    binary_sum = bin(a+b)[2:]\n",
    "    return binary_sum\n",
    "\n",
    "print(add_binary.__doc__)"
   ]
  },
  {
   "cell_type": "code",
   "execution_count": null,
   "id": "68d0399d",
   "metadata": {},
   "outputs": [],
   "source": [
    "# click right after add_binary and then shift+tab (repeat tab key to open the full docstring)\n",
    "add_binary"
   ]
  },
  {
   "cell_type": "markdown",
   "id": "baa0adb5",
   "metadata": {},
   "source": [
    "## Testing\n",
    "\n",
    "* Assert\n",
    "* Unittest\n",
    "* Pytest"
   ]
  },
  {
   "cell_type": "code",
   "execution_count": null,
   "id": "d9586028",
   "metadata": {},
   "outputs": [],
   "source": [
    "# show what bin looks like and use assert\n"
   ]
  },
  {
   "cell_type": "markdown",
   "id": "a17308a0",
   "metadata": {},
   "source": [
    "## Load CSV"
   ]
  },
  {
   "cell_type": "code",
   "execution_count": null,
   "id": "db7ebb06",
   "metadata": {},
   "outputs": [],
   "source": [
    "# sklearn dataset to dataframe to csv using pandas\n",
    "# import pandas as pd\n",
    "# from sklearn.datasets import load_iris\n",
    "\n",
    "# data = load_iris()\n",
    "# df = pd.DataFrame(data=data.data, columns=data.feature_names)\n",
    "# df.to_csv('iris.csv', index=False)"
   ]
  },
  {
   "cell_type": "code",
   "execution_count": null,
   "id": "9c0eec37",
   "metadata": {},
   "outputs": [],
   "source": [
    "# pandas read_csv (more in Week 4)\n"
   ]
  },
  {
   "cell_type": "code",
   "execution_count": null,
   "id": "f4cb648a",
   "metadata": {},
   "outputs": [],
   "source": [
    "# just get the data\n"
   ]
  },
  {
   "cell_type": "code",
   "execution_count": null,
   "id": "498d7510",
   "metadata": {},
   "outputs": [],
   "source": [
    "# our reader\n"
   ]
  },
  {
   "cell_type": "markdown",
   "id": "b52ed6d7",
   "metadata": {},
   "source": [
    "## String to Float"
   ]
  },
  {
   "cell_type": "code",
   "execution_count": null,
   "id": "644464f2",
   "metadata": {},
   "outputs": [],
   "source": [
    "# convert string to float\n"
   ]
  }
 ],
 "metadata": {
  "kernelspec": {
   "display_name": "Python 3 (ipykernel)",
   "language": "python",
   "name": "python3"
  },
  "language_info": {
   "codemirror_mode": {
    "name": "ipython",
    "version": 3
   },
   "file_extension": ".py",
   "mimetype": "text/x-python",
   "name": "python",
   "nbconvert_exporter": "python",
   "pygments_lexer": "ipython3",
   "version": "3.9.7"
  }
 },
 "nbformat": 4,
 "nbformat_minor": 5
}
