{
 "cells": [
  {
   "cell_type": "markdown",
   "id": "34b8124f",
   "metadata": {},
   "source": [
    "# Week 02 - Coding Practice"
   ]
  },
  {
   "cell_type": "markdown",
   "id": "4b63d8f1",
   "metadata": {},
   "source": [
    "## Notebook Quick Start\n",
    "\n",
    "Folder structures\n",
    "\n",
    "Jupyter Notebook: Jupyter Notebook (formerly IPython Notebooks) is a web-based interactive computational environment for creating notebook documents. Project Jupyter's operating philosophy is to support interactive data science and scientific computing across all programming languages via the development of open-source software. It supports different languages such as Python, R, and Julia. You can also install kernels to run other things like JavaScript.\n",
    "\n",
    "A notebook kernel is a “computational engine” that executes the code contained in a Notebook document. The ipython kernel, referenced in this guide, executes python code. Kernels for many other languages exist.\n",
    "\n",
    "https://jupyter-notebook-beginner-guide.readthedocs.io/en/latest/what_is_jupyter.html\n",
    "https://github.com/jupyter/jupyter/wiki/Jupyter-kernels\n",
    "https://jupyter-notebook.readthedocs.io/en/stable/examples/Notebook/Notebook%20Basics.html\n",
    "https://realpython.com/jupyter-notebook-introduction/"
   ]
  },
  {
   "cell_type": "markdown",
   "id": "c9a1a54b",
   "metadata": {},
   "source": [
    "### Menu\n",
    "\n",
    "**File** \n",
    "* Download as\n",
    "* Close and Halt\n",
    "\n",
    "**Edit**\n",
    "* Moving Cells\n",
    "* Find and Replace\n",
    "    \n",
    "**View** \n",
    "* Toggle Line Numbers\n",
    "    \n",
    "**Insert**\n",
    "* Insert Cell Above (A)\n",
    "* Insert Cell Below (B)\n",
    "\n",
    "**Cell**\n",
    "* Run Cell Ctrl-Enter\n",
    "* Run Cell and Select Below Shift-Enter\n",
    "* Run Cell and Insert Below Alt-Enter\n",
    "    \n",
    "**Kernel**\n",
    "* Restart\n",
    "    * Clear Output\n",
    "    * Run All\n",
    "\n",
    "**Widget**\n",
    "\n",
    "**Help**\n",
    "\n",
    "### Tool Bar\n",
    "\n",
    "**Markdown vs Code**\n",
    "* Markdown: https://www.ibm.com/docs/en/watson-studio-local/1.2.3?topic=notebooks-markdown-jupyter-cheatsheet\n",
    "* Code: Code example in next cell\n",
    "* Edit vs Command Modes (Green vs Blue Borders)\n",
    "    * A B X ESC"
   ]
  },
  {
   "cell_type": "code",
   "execution_count": null,
   "id": "a8726d74",
   "metadata": {},
   "outputs": [],
   "source": [
    "# code example\n",
    "print('Hello INFO5502!')\n",
    "print('Good to see you!')"
   ]
  },
  {
   "cell_type": "markdown",
   "id": "fd0e0634",
   "metadata": {},
   "source": [
    "## Python\n",
    "\n",
    "* **Interpreted**: a computer program that directly executes instructions written in a programming or scripting language, without requiring them previously to have been compiled into a machine language program.  (Compiled languages: Go, C++)\n",
    "* **Object Oriented**: a programming paradigm based on the concept of \"objects\", which can contain data and code: data in the form of fields, and code, in the form of procedures. A common feature of objects is that procedures are attached to them and can access and modify the object's data fields.\n",
    "* **Object**: An object is simply a collection of data (variables) and methods (functions) that act on those data. Similarly, a class is a blueprint for that object. We can think of a class as a sketch (prototype) of a house. It contains all the details about the floors, doors, windows, etc.\n",
    "* **High-Level Language**: A high-level language (HLL) is a programming language such as C, FORTRAN, or Pascal that enables a programmer to write programs that are more or less independent of a particular type of computer. Such languages are considered high-level because they are closer to human languages and further from machine languages. Python, C#, C++, PHP, Java vs assembly language and machine code\n",
    "* **Dynamic Semantics**: dynamic objects are instances of values contained into constructs in the code, and they exist at run-time level. Furthermore, we can assign to one object multiple values, since it will update itself, differently from a static semantic language. Namely, if we set a=2 and then a=’hello’, the string value will substitute the integer one as soon as the line is executed\n",
    "* **Built-In Data Structures**: Organizing, managing, and storing data is important as it enables easier access and efficient modifications. Data Structures allows you to organize your data in such a way that enables you to store collections of data, relate them and perform operations on them accordingly. Python has implicit support for Data Structures which enable you to store and access data. Some of these structures are called List, Dictionary, Tuple and Set.\n",
    "* **Dynamic Typing**: The term dynamic typing means that a compiler or an interpreter assigns a type to all the variables at run-time. The type of a variable is decided based on its value. The programs written using dynamic-typed languages are more flexible but will compile even if they contain errors.\n"
   ]
  },
  {
   "cell_type": "code",
   "execution_count": null,
   "id": "c7beb936",
   "metadata": {},
   "outputs": [],
   "source": [
    "# dynamic typing example\n"
   ]
  },
  {
   "cell_type": "code",
   "execution_count": null,
   "id": "a79a69ea",
   "metadata": {},
   "outputs": [],
   "source": [
    "# low value integers are pre-allocated\n"
   ]
  },
  {
   "cell_type": "markdown",
   "id": "39e85de4",
   "metadata": {},
   "source": [
    "## Data Structures\n",
    "\n",
    "### Primitive Types\n",
    "\n",
    "* Integers\n",
    "* Floats\n",
    "* Strings\n",
    "* Booleans\n",
    "\n",
    "### Non-Primitive Types (Collections)\n",
    "\n",
    "* Lists\n",
    "* Tuples\n",
    "* Sets\n",
    "* Dictionaries"
   ]
  },
  {
   "cell_type": "markdown",
   "id": "13f1ffbe",
   "metadata": {},
   "source": [
    "## Python Core\n",
    "\n",
    "### Numbers\n",
    "\n",
    "Integral (whole numbers)\n",
    "\n",
    "* Integers\n",
    "* Booleans\n",
    "\n",
    "Non-Integral\n",
    "\n",
    "* Floats\n",
    "* Complex\n",
    "* Decimals\n",
    "* Fractions"
   ]
  },
  {
   "cell_type": "code",
   "execution_count": null,
   "id": "d79e032a",
   "metadata": {},
   "outputs": [],
   "source": [
    "# numbers\n"
   ]
  },
  {
   "cell_type": "code",
   "execution_count": null,
   "id": "3449094d",
   "metadata": {},
   "outputs": [],
   "source": [
    "# https://docs.python.org/3/library/fractions.html\n"
   ]
  },
  {
   "cell_type": "markdown",
   "id": "280d2bff",
   "metadata": {},
   "source": [
    "## Lists, Dictionaries, Tuples, and Sets"
   ]
  },
  {
   "cell_type": "markdown",
   "id": "8a414bc7",
   "metadata": {},
   "source": [
    "### Collections\n",
    "\n",
    "Sequences\n",
    "\n",
    "* Mutable: Lists\n",
    "* Immutable: Tuples and Strings\n",
    "\n",
    "Sets \n",
    "\n",
    "* Mutable: Sets\n",
    "* Immutable: Frozen Sets\n",
    "\n",
    "Mappings\n",
    "\n",
    "* Dictionaries"
   ]
  },
  {
   "cell_type": "code",
   "execution_count": null,
   "id": "0940b6af",
   "metadata": {},
   "outputs": [],
   "source": [
    "# list\n"
   ]
  },
  {
   "cell_type": "code",
   "execution_count": null,
   "id": "5b2c3590",
   "metadata": {},
   "outputs": [],
   "source": [
    "# multiple lines\n"
   ]
  },
  {
   "cell_type": "code",
   "execution_count": null,
   "id": "58824751",
   "metadata": {},
   "outputs": [],
   "source": [
    "# mixed datatypes\n"
   ]
  },
  {
   "cell_type": "code",
   "execution_count": null,
   "id": "87a8e49f",
   "metadata": {},
   "outputs": [],
   "source": [
    "# mutable list\n"
   ]
  },
  {
   "cell_type": "code",
   "execution_count": null,
   "id": "6dfca583",
   "metadata": {},
   "outputs": [],
   "source": [
    "# tuple\n"
   ]
  },
  {
   "cell_type": "code",
   "execution_count": null,
   "id": "d1de9ae0",
   "metadata": {},
   "outputs": [],
   "source": [
    "# immutable tuple\n"
   ]
  },
  {
   "cell_type": "code",
   "execution_count": null,
   "id": "5f1a7d96",
   "metadata": {},
   "outputs": [],
   "source": [
    "# immutable string\n"
   ]
  },
  {
   "cell_type": "code",
   "execution_count": null,
   "id": "4c427adf",
   "metadata": {},
   "outputs": [],
   "source": [
    "# set \n"
   ]
  },
  {
   "cell_type": "code",
   "execution_count": null,
   "id": "d1b2def9",
   "metadata": {},
   "outputs": [],
   "source": [
    "# add and remove from set but can't change a value\n"
   ]
  },
  {
   "cell_type": "code",
   "execution_count": null,
   "id": "da7c2937",
   "metadata": {},
   "outputs": [],
   "source": [
    "# dictionary\n"
   ]
  },
  {
   "cell_type": "code",
   "execution_count": null,
   "id": "d5c68dc4",
   "metadata": {},
   "outputs": [],
   "source": [
    "# change values by key\n"
   ]
  },
  {
   "cell_type": "code",
   "execution_count": null,
   "id": "404f9c1b",
   "metadata": {},
   "outputs": [],
   "source": [
    "# adding to a dictionary\n"
   ]
  },
  {
   "cell_type": "markdown",
   "id": "40f1ef82",
   "metadata": {},
   "source": [
    "### Callables\n",
    "\n",
    "* User-Defined Functions\n",
    "* Classes\n",
    "* Built-in Functions (e.g. len(), abs(), range(), etc.)\n",
    "* Built-in Methods (e.g. my_list.append(x), my_list.extend(other_list), etc.)"
   ]
  },
  {
   "cell_type": "code",
   "execution_count": null,
   "id": "201d32f2",
   "metadata": {},
   "outputs": [],
   "source": [
    "# user defined function\n"
   ]
  },
  {
   "cell_type": "code",
   "execution_count": null,
   "id": "82f459e5",
   "metadata": {},
   "outputs": [],
   "source": [
    "# class\n"
   ]
  },
  {
   "cell_type": "code",
   "execution_count": null,
   "id": "91de7e5b",
   "metadata": {},
   "outputs": [],
   "source": [
    "# built-in function\n"
   ]
  },
  {
   "cell_type": "code",
   "execution_count": null,
   "id": "2418145b",
   "metadata": {},
   "outputs": [],
   "source": [
    "# built-in methods\n"
   ]
  },
  {
   "cell_type": "markdown",
   "id": "9e92c050",
   "metadata": {},
   "source": [
    "## Len and Range\n",
    "\n",
    "* Len is short for length\n",
    "* Range is sequence of numbers, start through (stop - 1), step range(start, stop, step)"
   ]
  },
  {
   "cell_type": "code",
   "execution_count": null,
   "id": "75c02bda",
   "metadata": {},
   "outputs": [],
   "source": [
    "# len\n"
   ]
  },
  {
   "cell_type": "markdown",
   "id": "288a89ac",
   "metadata": {},
   "source": [
    "## For and Comprehensions"
   ]
  },
  {
   "cell_type": "code",
   "execution_count": null,
   "id": "3d9713f6",
   "metadata": {},
   "outputs": [],
   "source": [
    "# range\n"
   ]
  },
  {
   "cell_type": "code",
   "execution_count": null,
   "id": "84e170b8",
   "metadata": {},
   "outputs": [],
   "source": [
    "# range(start, stop, step)\n"
   ]
  },
  {
   "cell_type": "code",
   "execution_count": null,
   "id": "0f2eaa3a",
   "metadata": {},
   "outputs": [],
   "source": [
    "# reverse order\n"
   ]
  },
  {
   "cell_type": "code",
   "execution_count": null,
   "id": "c6a52369",
   "metadata": {},
   "outputs": [],
   "source": [
    "# list comprehension\n"
   ]
  },
  {
   "cell_type": "code",
   "execution_count": null,
   "id": "3aa24543",
   "metadata": {},
   "outputs": [],
   "source": [
    "# dictionary comprehension\n"
   ]
  },
  {
   "cell_type": "code",
   "execution_count": null,
   "id": "b9221c0e",
   "metadata": {},
   "outputs": [],
   "source": [
    "# for loop list\n"
   ]
  },
  {
   "cell_type": "code",
   "execution_count": null,
   "id": "46494fce",
   "metadata": {},
   "outputs": [],
   "source": [
    "# nested for loop\n"
   ]
  },
  {
   "cell_type": "code",
   "execution_count": null,
   "id": "c4521489",
   "metadata": {},
   "outputs": [],
   "source": [
    "# nested comprehension\n"
   ]
  },
  {
   "cell_type": "code",
   "execution_count": null,
   "id": "d3c22d44",
   "metadata": {},
   "outputs": [],
   "source": [
    "# enumerate\n"
   ]
  },
  {
   "cell_type": "markdown",
   "id": "9c36bca9",
   "metadata": {},
   "source": [
    "## If Elif Else"
   ]
  },
  {
   "cell_type": "code",
   "execution_count": null,
   "id": "0ed029ea",
   "metadata": {},
   "outputs": [],
   "source": [
    "# if else\n"
   ]
  },
  {
   "cell_type": "code",
   "execution_count": null,
   "id": "07c10475",
   "metadata": {},
   "outputs": [],
   "source": [
    "# if elif else\n"
   ]
  },
  {
   "cell_type": "markdown",
   "id": "cffb0985",
   "metadata": {},
   "source": [
    "## Errors\n",
    "\n",
    "https://docs.python.org/3/library/exceptions.html"
   ]
  },
  {
   "cell_type": "code",
   "execution_count": null,
   "id": "564837d9",
   "metadata": {},
   "outputs": [],
   "source": [
    "# zero division error\n"
   ]
  },
  {
   "cell_type": "code",
   "execution_count": null,
   "id": "a9cdd18e",
   "metadata": {},
   "outputs": [],
   "source": [
    "# type error\n"
   ]
  },
  {
   "cell_type": "markdown",
   "id": "a9581701",
   "metadata": {},
   "source": [
    "## Try Except Break Continue"
   ]
  },
  {
   "cell_type": "code",
   "execution_count": null,
   "id": "6784f7b1",
   "metadata": {},
   "outputs": [],
   "source": [
    "# zero divison exception\n"
   ]
  },
  {
   "cell_type": "code",
   "execution_count": null,
   "id": "c4b50e74",
   "metadata": {},
   "outputs": [],
   "source": [
    "# type error and finally\n"
   ]
  },
  {
   "cell_type": "code",
   "execution_count": null,
   "id": "ab125b2a",
   "metadata": {},
   "outputs": [],
   "source": [
    "# operators https://www.tutorialspoint.com/python/python_basic_operators.htm\n"
   ]
  },
  {
   "cell_type": "code",
   "execution_count": null,
   "id": "0dbbddf2",
   "metadata": {},
   "outputs": [],
   "source": [
    "# break\n"
   ]
  },
  {
   "cell_type": "code",
   "execution_count": null,
   "id": "c89bc533",
   "metadata": {},
   "outputs": [],
   "source": [
    "# continue\n"
   ]
  },
  {
   "cell_type": "markdown",
   "id": "de0e489e",
   "metadata": {},
   "source": [
    "## Numpy (Arrays)\n",
    "\n",
    "* Scalars\n",
    "* Vectors\n",
    "* Matrices"
   ]
  },
  {
   "cell_type": "code",
   "execution_count": null,
   "id": "b51b0e52",
   "metadata": {},
   "outputs": [],
   "source": [
    "# list to array\n"
   ]
  },
  {
   "cell_type": "code",
   "execution_count": null,
   "id": "0ecbbdec",
   "metadata": {},
   "outputs": [],
   "source": [
    "# view list\n"
   ]
  },
  {
   "cell_type": "code",
   "execution_count": null,
   "id": "bc412ef9",
   "metadata": {},
   "outputs": [],
   "source": [
    "# view array\n"
   ]
  },
  {
   "cell_type": "code",
   "execution_count": null,
   "id": "10abda4e",
   "metadata": {},
   "outputs": [],
   "source": [
    "# 3 x 3 array\n"
   ]
  },
  {
   "cell_type": "code",
   "execution_count": null,
   "id": "239f01c0",
   "metadata": {},
   "outputs": [],
   "source": [
    "# np.zeroes\n"
   ]
  },
  {
   "cell_type": "code",
   "execution_count": null,
   "id": "cc8d2163",
   "metadata": {},
   "outputs": [],
   "source": [
    "# arrays from arange and reshape\n"
   ]
  },
  {
   "cell_type": "code",
   "execution_count": null,
   "id": "2b931704",
   "metadata": {},
   "outputs": [],
   "source": [
    "# scalar multiplaction\n"
   ]
  },
  {
   "cell_type": "code",
   "execution_count": null,
   "id": "489f3fed",
   "metadata": {},
   "outputs": [],
   "source": [
    "# scalar division\n"
   ]
  },
  {
   "cell_type": "code",
   "execution_count": null,
   "id": "243303c0",
   "metadata": {},
   "outputs": [],
   "source": [
    "# element wise multiplication\n"
   ]
  },
  {
   "cell_type": "code",
   "execution_count": null,
   "id": "5c5741fe",
   "metadata": {},
   "outputs": [],
   "source": [
    "# dot product\n"
   ]
  },
  {
   "cell_type": "code",
   "execution_count": null,
   "id": "f7342103",
   "metadata": {},
   "outputs": [],
   "source": [
    "# https://nbviewer.org/github/jmportilla/Udemy-notes/blob/master/Lec%209%20-Indexing%20Arrays.ipynb\n"
   ]
  },
  {
   "cell_type": "code",
   "execution_count": null,
   "id": "22b4167a",
   "metadata": {},
   "outputs": [],
   "source": []
  },
  {
   "cell_type": "code",
   "execution_count": null,
   "id": "9c85ab37",
   "metadata": {},
   "outputs": [],
   "source": []
  },
  {
   "cell_type": "code",
   "execution_count": null,
   "id": "aa3e0c69",
   "metadata": {},
   "outputs": [],
   "source": []
  },
  {
   "cell_type": "code",
   "execution_count": null,
   "id": "3edabec6",
   "metadata": {},
   "outputs": [],
   "source": []
  },
  {
   "cell_type": "code",
   "execution_count": null,
   "id": "83440738",
   "metadata": {},
   "outputs": [],
   "source": []
  },
  {
   "cell_type": "code",
   "execution_count": null,
   "id": "ee12fc8a",
   "metadata": {},
   "outputs": [],
   "source": []
  },
  {
   "cell_type": "code",
   "execution_count": null,
   "id": "75db49da",
   "metadata": {},
   "outputs": [],
   "source": []
  },
  {
   "cell_type": "code",
   "execution_count": null,
   "id": "477ca4ab",
   "metadata": {},
   "outputs": [],
   "source": [
    "# universal functions\n"
   ]
  },
  {
   "cell_type": "code",
   "execution_count": null,
   "id": "a0c1c0eb",
   "metadata": {},
   "outputs": [],
   "source": [
    "# universal functions\n"
   ]
  },
  {
   "cell_type": "code",
   "execution_count": null,
   "id": "71b78e8e",
   "metadata": {},
   "outputs": [],
   "source": [
    "# some descriptive statistics\n"
   ]
  },
  {
   "cell_type": "markdown",
   "id": "3029c1fa",
   "metadata": {},
   "source": [
    "## Pandas (Week 4)"
   ]
  },
  {
   "cell_type": "code",
   "execution_count": null,
   "id": "1ab7c7e4",
   "metadata": {},
   "outputs": [],
   "source": [
    "# pandas read_csv\n"
   ]
  },
  {
   "cell_type": "code",
   "execution_count": null,
   "id": "36127a44",
   "metadata": {},
   "outputs": [],
   "source": [
    "# get a column by name\n"
   ]
  },
  {
   "cell_type": "code",
   "execution_count": null,
   "id": "4aa6c37c",
   "metadata": {},
   "outputs": [],
   "source": [
    "# get two columns by column name\n"
   ]
  },
  {
   "cell_type": "code",
   "execution_count": null,
   "id": "76a7bc1b",
   "metadata": {},
   "outputs": [],
   "source": [
    "# get two columns by position\n"
   ]
  },
  {
   "cell_type": "code",
   "execution_count": null,
   "id": "80364d21",
   "metadata": {},
   "outputs": [],
   "source": [
    "# The loc[] function uses the row index and column names\n"
   ]
  },
  {
   "cell_type": "code",
   "execution_count": null,
   "id": "e2104ed8",
   "metadata": {},
   "outputs": [],
   "source": [
    "# select two rows and start stop columns\n"
   ]
  },
  {
   "cell_type": "code",
   "execution_count": null,
   "id": "23b4220d",
   "metadata": {},
   "outputs": [],
   "source": [
    "# select 3rd row\n"
   ]
  },
  {
   "cell_type": "code",
   "execution_count": null,
   "id": "825c7961",
   "metadata": {},
   "outputs": [],
   "source": [
    "# iloc uses index and column numbers\n"
   ]
  },
  {
   "cell_type": "code",
   "execution_count": null,
   "id": "b8ed5b93",
   "metadata": {},
   "outputs": [],
   "source": [
    "# using just an index\n"
   ]
  },
  {
   "cell_type": "code",
   "execution_count": null,
   "id": "85d4fece",
   "metadata": {},
   "outputs": [],
   "source": [
    "# using at\n"
   ]
  },
  {
   "cell_type": "code",
   "execution_count": null,
   "id": "4e9ed88a",
   "metadata": {},
   "outputs": [],
   "source": [
    "# using iat\n"
   ]
  },
  {
   "cell_type": "code",
   "execution_count": null,
   "id": "62ddf659",
   "metadata": {},
   "outputs": [],
   "source": [
    "# filter by single category\n"
   ]
  },
  {
   "cell_type": "code",
   "execution_count": null,
   "id": "1242ad18",
   "metadata": {},
   "outputs": [],
   "source": [
    "# how much did we filter\n"
   ]
  },
  {
   "cell_type": "code",
   "execution_count": null,
   "id": "39a25c9f",
   "metadata": {},
   "outputs": [],
   "source": [
    "# multiple columns using or\n"
   ]
  },
  {
   "cell_type": "code",
   "execution_count": null,
   "id": "1021e231",
   "metadata": {},
   "outputs": [],
   "source": [
    "# multiple columns using and\n"
   ]
  },
  {
   "cell_type": "code",
   "execution_count": null,
   "id": "d18035eb",
   "metadata": {
    "scrolled": true
   },
   "outputs": [],
   "source": [
    "# query\n"
   ]
  },
  {
   "cell_type": "code",
   "execution_count": null,
   "id": "9a40c84a",
   "metadata": {},
   "outputs": [],
   "source": [
    "# query and\n"
   ]
  },
  {
   "cell_type": "markdown",
   "id": "1291da52",
   "metadata": {},
   "source": [
    "## Statsmodels and SciPy (Week 3)"
   ]
  },
  {
   "cell_type": "markdown",
   "id": "d6132427",
   "metadata": {},
   "source": [
    "## Datasets (Week 4)"
   ]
  },
  {
   "cell_type": "markdown",
   "id": "97bb49da",
   "metadata": {},
   "source": [
    "## Matplotlib (Week 5)  and Seaborn"
   ]
  },
  {
   "cell_type": "markdown",
   "id": "dd75910b",
   "metadata": {},
   "source": [
    "## Sklearn (Week 7+)"
   ]
  }
 ],
 "metadata": {
  "kernelspec": {
   "display_name": "Python 3 (ipykernel)",
   "language": "python",
   "name": "python3"
  },
  "language_info": {
   "codemirror_mode": {
    "name": "ipython",
    "version": 3
   },
   "file_extension": ".py",
   "mimetype": "text/x-python",
   "name": "python",
   "nbconvert_exporter": "python",
   "pygments_lexer": "ipython3",
   "version": "3.9.7"
  }
 },
 "nbformat": 4,
 "nbformat_minor": 5
}
