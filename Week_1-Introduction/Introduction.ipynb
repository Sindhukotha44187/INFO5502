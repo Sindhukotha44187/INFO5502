{
 "cells": [
  {
   "cell_type": "code",
   "execution_count": 1,
   "id": "7fca0436",
   "metadata": {},
   "outputs": [
    {
     "name": "stdout",
     "output_type": "stream",
     "text": [
      "Hello There!\n",
      "Hi Mary. I am Joe\n"
     ]
    }
   ],
   "source": [
    "import intro\n",
    "\n",
    "# call function\n",
    "print(intro.hello())\n",
    "\n",
    "# call class\n",
    "conversation = intro.Introduction('Joe', 'Mary')\n",
    "print(conversation.talk_to_me())"
   ]
  },
  {
   "cell_type": "code",
   "execution_count": 2,
   "id": "c37416ff",
   "metadata": {},
   "outputs": [
    {
     "name": "stdout",
     "output_type": "stream",
     "text": [
      "3.0\n",
      "3.0\n"
     ]
    }
   ],
   "source": [
    "import numpy as np\n",
    "import example\n",
    "\n",
    "nums = [1, 2, 3, 4, 5]\n",
    "print(example.mean(nums))\n",
    "print(np.mean(nums))"
   ]
  }
 ],
 "metadata": {
  "kernelspec": {
   "display_name": "Python 3 (ipykernel)",
   "language": "python",
   "name": "python3"
  },
  "language_info": {
   "codemirror_mode": {
    "name": "ipython",
    "version": 3
   },
   "file_extension": ".py",
   "mimetype": "text/x-python",
   "name": "python",
   "nbconvert_exporter": "python",
   "pygments_lexer": "ipython3",
   "version": "3.9.7"
  }
 },
 "nbformat": 4,
 "nbformat_minor": 5
}
