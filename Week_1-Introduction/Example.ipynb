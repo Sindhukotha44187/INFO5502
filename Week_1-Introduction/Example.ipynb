{
 "cells": [
  {
   "cell_type": "markdown",
   "id": "b7419a5b",
   "metadata": {},
   "source": [
    "### Equation for Finding the Mean\n",
    "\n",
    "$\\mu = \\frac{1}{N} \\sum_{i=1}^{N} x_i$"
   ]
  },
  {
   "cell_type": "code",
   "execution_count": null,
   "id": "45329790",
   "metadata": {},
   "outputs": [],
   "source": [
    "import numpy as np\n",
    "\n",
    "def mean(nums):\n",
    "    return np.sum(nums)/len(nums)"
   ]
  }
 ],
 "metadata": {
  "kernelspec": {
   "display_name": "Python 3 (ipykernel)",
   "language": "python",
   "name": "python3"
  },
  "language_info": {
   "codemirror_mode": {
    "name": "ipython",
    "version": 3
   },
   "file_extension": ".py",
   "mimetype": "text/x-python",
   "name": "python",
   "nbconvert_exporter": "python",
   "pygments_lexer": "ipython3",
   "version": "3.9.7"
  }
 },
 "nbformat": 4,
 "nbformat_minor": 5
}
